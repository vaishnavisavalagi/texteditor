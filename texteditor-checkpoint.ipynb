{
 "cells": [
  {
   "cell_type": "code",
   "execution_count": null,
   "id": "9bcbdec9",
   "metadata": {},
   "outputs": [],
   "source": [
    "import tkinter as tk\n",
    "from tkinter import filedialog\n",
    "\n",
    "class TextEditor:\n",
    "    def __init__(self, master):\n",
    "        self.master = master\n",
    "        master.title(\"Text Editor\")\n",
    "\n",
    "        self.text_area = tk.Text(master)\n",
    "        self.text_area.pack(fill=tk.BOTH, expand=True)\n",
    "\n",
    "        self.create_menu()\n",
    "\n",
    "    def create_menu(self):\n",
    "        menubar = tk.Menu(self.master)\n",
    "        filemenu = tk.Menu(menubar, tearoff=0)\n",
    "        filemenu.add_command(label=\"New\", command=self.new_file)\n",
    "        filemenu.add_command(label=\"Open\", command=self.open_file)\n",
    "        filemenu.add_command(label=\"Save\", command=self.save_file)\n",
    "        filemenu.add_separator()\n",
    "        filemenu.add_command(label=\"Exit\", command=self.master.quit)\n",
    "        menubar.add_cascade(label=\"File\", menu=filemenu)\n",
    "        self.master.config(menu=menubar)\n",
    "\n",
    "    def new_file(self):\n",
    "        self.text_area.delete(1.0, tk.END)\n",
    "\n",
    "    def open_file(self):\n",
    "        filepath = filedialog.askopenfilename(\n",
    "            defaultextension=\".txt\",\n",
    "            filetypes=[(\"Text Files\", \"*.txt\"), (\"All Files\", \"*.*\")]\n",
    "        )\n",
    "        if filepath:\n",
    "            try:\n",
    "                with open(filepath, \"r\") as f:\n",
    "                    self.text_area.delete(1.0, tk.END)\n",
    "                    self.text_area.insert(tk.END, f.read())\n",
    "            except:\n",
    "                tk.messagebox.showerror(\"Error\", \"Failed to open file\")\n",
    "\n",
    "    def save_file(self):\n",
    "        filepath = filedialog.asksaveasfilename(\n",
    "            defaultextension=\".txt\",\n",
    "            filetypes=[(\"Text Files\", \"*.txt\"), (\"All Files\", \"*.*\")]\n",
    "        )\n",
    "        if filepath:\n",
    "            try:\n",
    "                with open(filepath, \"w\") as f:\n",
    "                    f.write(self.text_area.get(1.0, tk.END))\n",
    "            except:\n",
    "                tk.messagebox.showerror(\"Error\", \"Failed to save file\")\n",
    "\n",
    "root = tk.Tk()\n",
    "text_editor = TextEditor(root)\n",
    "root.mainloop()"
   ]
  }
 ],
 "metadata": {
  "kernelspec": {
   "display_name": "Python 3 (ipykernel)",
   "language": "python",
   "name": "python3"
  },
  "language_info": {
   "codemirror_mode": {
    "name": "ipython",
    "version": 3
   },
   "file_extension": ".py",
   "mimetype": "text/x-python",
   "name": "python",
   "nbconvert_exporter": "python",
   "pygments_lexer": "ipython3",
   "version": "3.9.13"
  }
 },
 "nbformat": 4,
 "nbformat_minor": 5
}
